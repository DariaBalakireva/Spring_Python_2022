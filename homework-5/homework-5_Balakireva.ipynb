{
 "cells": [
  {
   "cell_type": "markdown",
   "metadata": {},
   "source": [
    "# Реализация LU- и LUP- алгоритмов для решения СЛАУ\n",
    "## Работу выполнила Балакирева Дарья НПМбд-01-19"
   ]
  },
  {
   "cell_type": "markdown",
   "metadata": {},
   "source": [
    "Перед написанием кода импортируем библиотеку numpy."
   ]
  },
  {
   "cell_type": "code",
   "execution_count": 2,
   "metadata": {},
   "outputs": [],
   "source": [
    "import numpy as np"
   ]
  },
  {
   "cell_type": "markdown",
   "metadata": {},
   "source": [
    "## LU-алгоритм"
   ]
  },
  {
   "cell_type": "markdown",
   "metadata": {},
   "source": [
    "Реализуем алгоритм превращения данной на вход матрицы в L и U матрицы. Сначала зададим матрицу U как копию A, а матрицу L как единичную матрицу размером n x n, а затем заполним их, используя вспомогательную переменную r."
   ]
  },
  {
   "cell_type": "code",
   "execution_count": 3,
   "metadata": {},
   "outputs": [],
   "source": [
    "def From_A_to_LU(A):\n",
    "    s = A.shape[0]\n",
    "    U = A.copy()\n",
    "    L = np.eye(s)\n",
    "    \n",
    "    for i in range(s):\n",
    "        r = U[i+1:, i] / U[i, i]\n",
    "        L[i+1:, i] = r\n",
    "        U[i+1:] -= r[:, np.newaxis] * U[i]\n",
    "        \n",
    "    return L, U"
   ]
  },
  {
   "cell_type": "markdown",
   "metadata": {},
   "source": [
    "Получив L и U, мы можем найти наше решение в два этапа - сначала мы находим y из L*y = b:"
   ]
  },
  {
   "cell_type": "code",
   "execution_count": 4,
   "metadata": {},
   "outputs": [],
   "source": [
    "def get_y(L, b):   \n",
    "    s = L.shape[0]    \n",
    "    y = np.zeros_like(b, dtype=np.double);   \n",
    "    y[0] = b[0] / L[0, 0]    \n",
    "    for i in range(1, s):\n",
    "        y[i] = (b[i] - np.dot(L[i,:i], y[:i])) / L[i,i]        \n",
    "    return y"
   ]
  },
  {
   "cell_type": "markdown",
   "metadata": {},
   "source": [
    "А затем из уравнения U*x = y мы находим x:"
   ]
  },
  {
   "cell_type": "code",
   "execution_count": 5,
   "metadata": {},
   "outputs": [],
   "source": [
    "def get_x(U, y):\n",
    "    s = U.shape[0]\n",
    "    x = np.zeros_like(y, dtype=np.double);\n",
    "    x[-1] = y[-1] / U[-1, -1]\n",
    "    for i in range(s-2, -1, -1):\n",
    "        x[i] = (y[i] - np.dot(U[i,i:], x[i:])) / U[i,i]   \n",
    "    return x"
   ]
  },
  {
   "cell_type": "markdown",
   "metadata": {},
   "source": [
    "Финальная функция решения будет выглядеть так:"
   ]
  },
  {
   "cell_type": "code",
   "execution_count": 6,
   "metadata": {},
   "outputs": [],
   "source": [
    "def LU_solve(A, b):  \n",
    "    L, U = From_A_to_LU(A) \n",
    "    y = get_y(L, b)\n",
    "    return get_x(U, y)"
   ]
  },
  {
   "cell_type": "markdown",
   "metadata": {},
   "source": [
    "Протестируем наш код:"
   ]
  },
  {
   "cell_type": "code",
   "execution_count": 7,
   "metadata": {},
   "outputs": [
    {
     "name": "stdout",
     "output_type": "stream",
     "text": [
      "[[-0.66666667]\n",
      " [-0.66666667]\n",
      " [ 1.        ]]\n",
      "102 µs ± 5.08 µs per loop (mean ± std. dev. of 7 runs, 10000 loops each)\n"
     ]
    }
   ],
   "source": [
    "A = np.array([[1., 2., 3.], [4., 5., 6.], [7., 8., 10.]])\n",
    "b = np.array([[1], [0], [0]])\n",
    "\n",
    "print(LU_solve(A, b))\n",
    "%timeit LU_solve(A,b)"
   ]
  },
  {
   "cell_type": "markdown",
   "metadata": {},
   "source": [
    "Сверимся со встроенной функцией, реализованной в numpy:"
   ]
  },
  {
   "cell_type": "code",
   "execution_count": 8,
   "metadata": {},
   "outputs": [
    {
     "data": {
      "text/plain": [
       "array([[-0.66666667],\n",
       "       [-0.66666667],\n",
       "       [ 1.        ]])"
      ]
     },
     "execution_count": 8,
     "metadata": {},
     "output_type": "execute_result"
    }
   ],
   "source": [
    "np.linalg.solve(A, b)"
   ]
  },
  {
   "cell_type": "markdown",
   "metadata": {},
   "source": [
    "## PLU-алгоритм\n",
    "Отличия будут только в функции превращения матрицы A в теперь уже 3 новые матрицы P, L, U, а также в solve-функции. Здесь в цикле for происходит исключительно перестановка элементов внутреннего цикла k, поэтому цикл будет не таким медленным."
   ]
  },
  {
   "cell_type": "code",
   "execution_count": 9,
   "metadata": {},
   "outputs": [],
   "source": [
    "def From_A_to_PLU(A):\n",
    "    s = A.shape[0]\n",
    "    U = A.copy()\n",
    "    L = np.eye(s, dtype=np.double)\n",
    "    P = np.eye(s, dtype=np.double)\n",
    "    for i in range(s):\n",
    "        for j in range(i, s):\n",
    "            #для избежания погрешностей при очень близком к нулю значении\n",
    "            if ~np.isclose(U[i, i], 0.0):\n",
    "                break\n",
    "            U[[j, j+1]] = U[[j+1, j]]\n",
    "            P[[j, j+1]] = P[[j+1, j]]\n",
    "        r = U[i+1:, i] / U[i, i]\n",
    "        L[i+1:, i] = r\n",
    "        U[i+1:] -= r[:, np.newaxis] * U[i]   \n",
    "    return P, L, U"
   ]
  },
  {
   "cell_type": "markdown",
   "metadata": {},
   "source": [
    "Реализация самой solve-функции не сильно отличается:"
   ]
  },
  {
   "cell_type": "code",
   "execution_count": 10,
   "metadata": {},
   "outputs": [],
   "source": [
    "def PLU_solve(A, b):\n",
    "    P, L, U = From_A_to_PLU(A)\n",
    "    y = get_y(L, np.dot(P, b))\n",
    "    return get_x(U, y)"
   ]
  },
  {
   "cell_type": "markdown",
   "metadata": {},
   "source": [
    "Тестируем наш код:"
   ]
  },
  {
   "cell_type": "code",
   "execution_count": 25,
   "metadata": {},
   "outputs": [
    {
     "name": "stdout",
     "output_type": "stream",
     "text": [
      "[[-0.66666667]\n",
      " [-0.66666667]\n",
      " [ 1.        ]]\n",
      "304 µs ± 36.5 µs per loop (mean ± std. dev. of 7 runs, 1000 loops each)\n"
     ]
    }
   ],
   "source": [
    "A = np.array([[1., 2., 3.], [4., 5., 6.], [7., 8., 10.]])\n",
    "b = np.array([[1], [0], [0]])\n",
    "\n",
    "print(PLU_solve(A, b))\n",
    "%timeit PLU_solve(A,b)"
   ]
  },
  {
   "cell_type": "markdown",
   "metadata": {},
   "source": [
    "Сверяем со встроенной функцией:"
   ]
  },
  {
   "cell_type": "code",
   "execution_count": 22,
   "metadata": {},
   "outputs": [
    {
     "data": {
      "text/plain": [
       "array([[-2.66666667],\n",
       "       [ 3.33333333],\n",
       "       [-1.        ]])"
      ]
     },
     "execution_count": 22,
     "metadata": {},
     "output_type": "execute_result"
    }
   ],
   "source": [
    "np.linalg.solve(A, b)"
   ]
  },
  {
   "cell_type": "markdown",
   "metadata": {},
   "source": [
    "# Вывод:\n",
    "В разобранном нами примере функция LU работает быстрее PLU приблизительно в 3 раза, но обе функции делают это достаточно быстро. Мы разобрались в реализации алгоритмов на языке python."
   ]
  }
 ],
 "metadata": {
  "kernelspec": {
   "display_name": "Python 3",
   "language": "python",
   "name": "python3"
  },
  "language_info": {
   "codemirror_mode": {
    "name": "ipython",
    "version": 3
   },
   "file_extension": ".py",
   "mimetype": "text/x-python",
   "name": "python",
   "nbconvert_exporter": "python",
   "pygments_lexer": "ipython3",
   "version": "3.8.5"
  }
 },
 "nbformat": 4,
 "nbformat_minor": 5
}
